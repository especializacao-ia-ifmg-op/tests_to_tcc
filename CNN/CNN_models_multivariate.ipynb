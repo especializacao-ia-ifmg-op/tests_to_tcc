{
 "cells": [
  {
   "cell_type": "markdown",
   "metadata": {},
   "source": [
    "### Comparing models"
   ]
  },
  {
   "cell_type": "code",
   "execution_count": 1,
   "metadata": {},
   "outputs": [],
   "source": [
    "# !pip install keras-tcn==2.8.3\n",
    "# !git clone https://github.com/PatriciaLucas/CNN\n",
    "# from CNN import Ensemble as es\n",
    "# from CNN import basic\n",
    "import Ensemble as es\n",
    "import basic\n",
    "import numpy as np\n",
    "import pandas as pd\n",
    "import matplotlib as plt\n",
    "import matplotlib.pyplot as plt\n",
    "from matplotlib.pylab import rcParams\n",
    "rcParams['figure.figsize'] = 15, 7\n",
    "import seaborn as sns\n",
    "from statsmodels.graphics.tsaplots import plot_acf\n",
    "from scipy import stats\n",
    "from sklearn.metrics import mean_squared_error\n",
    "from sklearn.metrics import mean_absolute_percentage_error\n",
    "from sklearn.metrics import mean_absolute_error\n",
    "\n",
    "from math import sqrt\n",
    "\n",
    "import warnings\n",
    "# from google.colab import files\n",
    "warnings.filterwarnings(\"ignore\")"
   ]
  },
  {
   "cell_type": "code",
   "execution_count": 2,
   "metadata": {},
   "outputs": [],
   "source": [
    "def normalize(df):\n",
    "    mindf = df.min()\n",
    "    maxdf = df.max()\n",
    "    return (df-mindf)/(maxdf-mindf)\n",
    "\n",
    "def denormalize(norm, _min, _max):\n",
    "    return [(n * (_max-_min)) + _min for n in norm]"
   ]
  },
  {
   "cell_type": "code",
   "execution_count": 3,
   "metadata": {},
   "outputs": [],
   "source": [
    "def get_search_dataset_multivariate(dataset, n_var):\n",
    "    df1 = pd.read_csv(dataset, sep=',') # 7305 registros\n",
    "    series = df1.iloc[:,1:n_var+1]\n",
    "    norm_df = normalize(series)\n",
    "    size = int(len(norm_df) * 0.80)\n",
    "    train = series[:size]\n",
    "    test = series[size:]\n",
    "    return train, test"
   ]
  },
  {
   "cell_type": "code",
   "execution_count": 4,
   "metadata": {},
   "outputs": [],
   "source": [
    "def form_data(data, t):\n",
    "  n_execucoes = 5\n",
    "  n_previsoes = 1\n",
    "  df = pd.DataFrame(data)\n",
    "  df1 = df.T\n",
    "  frames = [df1.iloc[:,0], df1.iloc[:,1], df1.iloc[:,2], df1.iloc[:,3], df1.iloc[:,4]]#, df1.iloc[:,5], df1.iloc[:,6], df1.iloc[:,7], df1.iloc[:,8], df1.iloc[:,9], df1.iloc[:,10], df1.iloc[:,11],\n",
    "        #  df1.iloc[:,12], df1.iloc[:,13], df1.iloc[:,14], df1.iloc[:,15], df1.iloc[:,16], df1.iloc[:,17],df1.iloc[:,18], df1.iloc[:,19], df1.iloc[:,20], df1.iloc[:,21], df1.iloc[:,22], \n",
    "        #  df1.iloc[:,23], df1.iloc[:,24], df1.iloc[:,25], df1.iloc[:,26], df1.iloc[:,27], df1.iloc[:,28], df1.iloc[:,29]]\n",
    "  result = pd.concat(frames)\n",
    "  r = pd.DataFrame(result) \n",
    "  r.insert(1, \"Model\", True)\n",
    "  for i in range(n_execucoes * n_previsoes): # n_execucoes * n_previsoes\n",
    "      r['Model'].iloc[i] = 'CNN'+ t\n",
    "  return r"
   ]
  },
  {
   "cell_type": "code",
   "execution_count": 5,
   "metadata": {},
   "outputs": [],
   "source": [
    "star_CNN1 = {'filters': 1, 'pool': 0, 'pool_size': 3, 'dropout': 0.012594059561340142, 'norm': 1, 'lags': 4, 'num_conv': 1, 'kernel_size': 3, 'rmse': 0.7696852129001718, 'num_param': 449}\n",
    "# star_CNN2 = {'filters': 1, 'dropout': 0, 'norm': 1, 'lags': 4, 'num_conv': 1, 'kernel_size': 0, 'rmse': 0.7566198577347709, 'num_param': 449}\n",
    "# star_CNN3 = {'pilhas': 2, 'filters': 1, 'dropout': 0.2, 'norm': 1, 'lags': 48, 'num_conv': 3, 'kernel_size': 2, 'rmse': 0.7530, 'num_param': 68257}"
   ]
  },
  {
   "cell_type": "code",
   "execution_count": 6,
   "metadata": {},
   "outputs": [],
   "source": [
    "u_row_train, u_row_test = get_search_dataset_multivariate('uni_lat-21.95_lon-46.65.csv', n_var=1)"
   ]
  },
  {
   "cell_type": "code",
   "execution_count": 7,
   "metadata": {},
   "outputs": [
    {
     "name": "stdout",
     "output_type": "stream",
     "text": [
      "Epoch 76: early stopping\n",
      "Epoch 54: early stopping\n",
      "Epoch 52: early stopping\n",
      "Epoch 86: early stopping\n",
      "Epoch 90: early stopping\n"
     ]
    }
   ],
   "source": [
    "u_results_CNN1 = []\n",
    "n_var = 1\n",
    "n_execucoes = 5\n",
    "n_previsoes = 1\n",
    "u_train, u_test, u_scaler = es.get_dados(star_CNN1, u_row_train, u_row_test)\n",
    "X_train, y_train, X_test, y_test = basic.slideWindowMulti(u_train, u_test, n_lags=star_CNN1['lags'], n_var=n_var)\n",
    "for i in range(n_execucoes):\n",
    "  model,_ = basic.modelo_CNN1(X_train, y_train, star_CNN1)\n",
    "  rmse, yhat, y_test = basic.predictModelMulti(u_test, model, n_previsoes=n_previsoes, n_lags=star_CNN1['lags'], n_var=n_var, scaler=u_scaler)\n",
    "  u_results_CNN1.append(rmse)\n",
    "\n",
    "u_results_CNN1 = form_data(u_results_CNN1, '1 (ETo)')\n",
    "u_results_CNN1.to_csv('u_results_CNN1.csv',index=True)"
   ]
  },
  {
   "cell_type": "code",
   "execution_count": 8,
   "metadata": {},
   "outputs": [],
   "source": [
    "m_row_train, m_row_test = get_search_dataset_multivariate('multi_rs_lat-21.95_lon-46.65.csv', n_var=2)"
   ]
  },
  {
   "cell_type": "code",
   "execution_count": 9,
   "metadata": {},
   "outputs": [
    {
     "name": "stdout",
     "output_type": "stream",
     "text": [
      "Epoch 63: early stopping\n",
      "Epoch 46: early stopping\n",
      "Epoch 33: early stopping\n",
      "Epoch 64: early stopping\n"
     ]
    }
   ],
   "source": [
    "m_rs_results_CNN1 = []\n",
    "n_var = 2\n",
    "n_execucoes = 5\n",
    "n_previsoes = 1\n",
    "m_train, m_test, m_scaler = es.get_dados(star_CNN1, m_row_train, m_row_test)\n",
    "X_train, y_train, X_test, y_test = basic.slideWindowMulti(m_train, m_test, n_lags=star_CNN1['lags'], n_var=n_var)\n",
    "for i in range(5):\n",
    "  model,_ = basic.modelo_CNN1(X_train, y_train, star_CNN1) \n",
    "  rmse, yhat, y_test = basic.predictModelMulti(m_test, model, n_previsoes=n_previsoes, n_lags=star_CNN1['lags'], n_var=n_var, scaler=m_scaler)\n",
    "  m_rs_results_CNN1.append(rmse)\n",
    "\n",
    "m_rs_results_CNN1 = form_data(m_rs_results_CNN1, '1 (Rs, ETo)')\n",
    "m_rs_results_CNN1.to_csv('m_rs_results_CNN1.csv',index=True)"
   ]
  },
  {
   "cell_type": "code",
   "execution_count": 10,
   "metadata": {},
   "outputs": [],
   "source": [
    "m_row_train, m_row_test = get_search_dataset_multivariate('multi_u2_lat-21.95_lon-46.65.csv', n_var=2)"
   ]
  },
  {
   "cell_type": "code",
   "execution_count": 12,
   "metadata": {},
   "outputs": [
    {
     "name": "stdout",
     "output_type": "stream",
     "text": [
      "Epoch 92: early stopping\n",
      "Epoch 73: early stopping\n"
     ]
    }
   ],
   "source": [
    "m_u2_results_CNN1 = []\n",
    "n_var = 2\n",
    "n_execucoes = 5\n",
    "n_previsoes = 1\n",
    "m_train, m_test, m_scaler = es.get_dados(star_CNN1, m_row_train, m_row_test)\n",
    "X_train, y_train, X_test, y_test = basic.slideWindowMulti(m_train, m_test, n_lags=star_CNN1['lags'], n_var=n_var)\n",
    "for i in range(5):\n",
    "  model,_ = basic.modelo_CNN1(X_train, y_train, star_CNN1) \n",
    "  rmse, yhat, y_test = basic.predictModelMulti(m_test, model, n_previsoes=n_previsoes, n_lags=star_CNN1['lags'], n_var=n_var, scaler=m_scaler)\n",
    "  m_u2_results_CNN1.append(rmse)\n",
    "\n",
    "m_u2_results_CNN1 = form_data(m_u2_results_CNN1, '1 (u2, ETo)')\n",
    "m_u2_results_CNN1.to_csv('m_u2_results_CNN1.csv',index=True)"
   ]
  },
  {
   "cell_type": "code",
   "execution_count": 13,
   "metadata": {},
   "outputs": [],
   "source": [
    "m_row_train, m_row_test = get_search_dataset_multivariate('multi_rh_lat-21.95_lon-46.65.csv', n_var=2)"
   ]
  },
  {
   "cell_type": "code",
   "execution_count": 14,
   "metadata": {},
   "outputs": [
    {
     "name": "stdout",
     "output_type": "stream",
     "text": [
      "Epoch 20: early stopping\n",
      "Epoch 38: early stopping\n",
      "Epoch 36: early stopping\n",
      "Epoch 57: early stopping\n",
      "Epoch 53: early stopping\n"
     ]
    }
   ],
   "source": [
    "m_rh_results_CNN1 = []\n",
    "n_var = 2\n",
    "n_execucoes = 5\n",
    "n_previsoes = 1\n",
    "m_train, m_test, m_scaler = es.get_dados(star_CNN1, m_row_train, m_row_test)\n",
    "X_train, y_train, X_test, y_test = basic.slideWindowMulti(m_train, m_test, n_lags=star_CNN1['lags'], n_var=n_var)\n",
    "for i in range(5):\n",
    "  model,_ = basic.modelo_CNN1(X_train, y_train, star_CNN1) \n",
    "  rmse, yhat, y_test = basic.predictModelMulti(m_test, model, n_previsoes=n_previsoes, n_lags=star_CNN1['lags'], n_var=n_var, scaler=m_scaler)\n",
    "  m_rh_results_CNN1.append(rmse)\n",
    "\n",
    "m_rh_results_CNN1 = form_data(m_rh_results_CNN1, '1 (RH, ETo)')\n",
    "m_rh_results_CNN1.to_csv('m_rh_results_CNN1.csv',index=True)"
   ]
  },
  {
   "cell_type": "code",
   "execution_count": 15,
   "metadata": {},
   "outputs": [],
   "source": [
    "m_row_train, m_row_test = get_search_dataset_multivariate('multi_tmax_lat-21.95_lon-46.65.csv', n_var=2)"
   ]
  },
  {
   "cell_type": "code",
   "execution_count": 16,
   "metadata": {},
   "outputs": [
    {
     "name": "stdout",
     "output_type": "stream",
     "text": [
      "Epoch 43: early stopping\n",
      "Epoch 76: early stopping\n",
      "Epoch 41: early stopping\n",
      "Epoch 57: early stopping\n",
      "Epoch 55: early stopping\n"
     ]
    }
   ],
   "source": [
    "m_tmax_results_CNN1 = []\n",
    "n_var = 2\n",
    "n_execucoes = 5\n",
    "n_previsoes = 1\n",
    "m_train, m_test, m_scaler = es.get_dados(star_CNN1, m_row_train, m_row_test)\n",
    "X_train, y_train, X_test, y_test = basic.slideWindowMulti(m_train, m_test, n_lags=star_CNN1['lags'], n_var=n_var)\n",
    "for i in range(5):\n",
    "  model,_ = basic.modelo_CNN1(X_train, y_train, star_CNN1) \n",
    "  rmse, yhat, y_test = basic.predictModelMulti(m_test, model, n_previsoes=n_previsoes, n_lags=star_CNN1['lags'], n_var=n_var, scaler=m_scaler)\n",
    "  m_tmax_results_CNN1.append(rmse)\n",
    "\n",
    "m_tmax_results_CNN1 = form_data(m_tmax_results_CNN1, '1 (Tmax, ETo)')\n",
    "m_tmax_results_CNN1.to_csv('m_tmax_results_CNN1.csv',index=True)"
   ]
  },
  {
   "cell_type": "code",
   "execution_count": 17,
   "metadata": {},
   "outputs": [],
   "source": [
    "m_row_train, m_row_test = get_search_dataset_multivariate('multi_tmin_lat-21.95_lon-46.65.csv', n_var=2)"
   ]
  },
  {
   "cell_type": "code",
   "execution_count": 18,
   "metadata": {},
   "outputs": [
    {
     "name": "stdout",
     "output_type": "stream",
     "text": [
      "Epoch 45: early stopping\n",
      "Epoch 49: early stopping\n",
      "Epoch 39: early stopping\n",
      "Epoch 59: early stopping\n"
     ]
    }
   ],
   "source": [
    "m_tmin_results_CNN1 = []\n",
    "n_var = 2\n",
    "n_execucoes = 5\n",
    "n_previsoes = 1\n",
    "m_train, m_test, m_scaler = es.get_dados(star_CNN1, m_row_train, m_row_test)\n",
    "X_train, y_train, X_test, y_test = basic.slideWindowMulti(m_train, m_test, n_lags=star_CNN1['lags'], n_var=n_var)\n",
    "for i in range(5):\n",
    "  model,_ = basic.modelo_CNN1(X_train, y_train, star_CNN1) \n",
    "  rmse, yhat, y_test = basic.predictModelMulti(m_test, model, n_previsoes=n_previsoes, n_lags=star_CNN1['lags'], n_var=n_var, scaler=m_scaler)\n",
    "  m_tmin_results_CNN1.append(rmse)\n",
    "\n",
    "m_tmin_results_CNN1 = form_data(m_tmin_results_CNN1, '1 (Tmin, ETo)')\n",
    "m_tmin_results_CNN1.to_csv('m_tmin_results_CNN1.csv',index=True)"
   ]
  },
  {
   "cell_type": "code",
   "execution_count": 19,
   "metadata": {},
   "outputs": [],
   "source": [
    "m_row_train, m_row_test = get_search_dataset_multivariate('multi_pr_lat-21.95_lon-46.65.csv', n_var=2)"
   ]
  },
  {
   "cell_type": "code",
   "execution_count": 20,
   "metadata": {},
   "outputs": [
    {
     "name": "stdout",
     "output_type": "stream",
     "text": [
      "Epoch 60: early stopping\n",
      "Epoch 74: early stopping\n",
      "Epoch 48: early stopping\n"
     ]
    }
   ],
   "source": [
    "m_pr_results_CNN1 = []\n",
    "n_var = 2\n",
    "n_execucoes = 5\n",
    "n_previsoes = 1\n",
    "m_train, m_test, m_scaler = es.get_dados(star_CNN1, m_row_train, m_row_test)\n",
    "X_train, y_train, X_test, y_test = basic.slideWindowMulti(m_train, m_test, n_lags=star_CNN1['lags'], n_var=n_var)\n",
    "for i in range(5):\n",
    "  model,_ = basic.modelo_CNN1(X_train, y_train, star_CNN1) \n",
    "  rmse, yhat, y_test = basic.predictModelMulti(m_test, model, n_previsoes=n_previsoes, n_lags=star_CNN1['lags'], n_var=n_var, scaler=m_scaler)\n",
    "  m_pr_results_CNN1.append(rmse)\n",
    "\n",
    "m_pr_results_CNN1 = form_data(m_pr_results_CNN1, '1 (pr, ETo)')\n",
    "m_pr_results_CNN1.to_csv('m_pr_results_CNN1.csv',index=True)"
   ]
  },
  {
   "cell_type": "code",
   "execution_count": 21,
   "metadata": {},
   "outputs": [],
   "source": [
    "m_row_train, m_row_test = get_search_dataset_multivariate('multi_rs_u2_lat-21.95_lon-46.65.csv', n_var=3)"
   ]
  },
  {
   "cell_type": "code",
   "execution_count": 22,
   "metadata": {},
   "outputs": [
    {
     "name": "stdout",
     "output_type": "stream",
     "text": [
      "Epoch 56: early stopping\n",
      "Epoch 61: early stopping\n",
      "Epoch 56: early stopping\n"
     ]
    }
   ],
   "source": [
    "m_rs_u2_results_CNN1 = []\n",
    "n_var = 3\n",
    "n_execucoes = 5\n",
    "n_previsoes = 1\n",
    "m_train, m_test, m_scaler = es.get_dados(star_CNN1, m_row_train, m_row_test)\n",
    "X_train, y_train, X_test, y_test = basic.slideWindowMulti(m_train, m_test, n_lags=star_CNN1['lags'], n_var=n_var)\n",
    "for i in range(5):\n",
    "  model,_ = basic.modelo_CNN1(X_train, y_train, star_CNN1) \n",
    "  rmse, yhat, y_test = basic.predictModelMulti(m_test, model, n_previsoes=n_previsoes, n_lags=star_CNN1['lags'], n_var=n_var, scaler=m_scaler)\n",
    "  m_rs_u2_results_CNN1.append(rmse)\n",
    "\n",
    "m_rs_u2_results_CNN1 = form_data(m_rs_u2_results_CNN1, '1 (Rs, u2, ETo)')\n",
    "m_rs_u2_results_CNN1.to_csv('m_rs_u2_results_CNN1.csv',index=True)"
   ]
  },
  {
   "cell_type": "code",
   "execution_count": 23,
   "metadata": {},
   "outputs": [
    {
     "ename": "FileNotFoundError",
     "evalue": "[Errno 2] No such file or directory: 'multi_u2_tmax_lat-21.95_lon-46.65.csv'",
     "output_type": "error",
     "traceback": [
      "\u001b[1;31m---------------------------------------------------------------------------\u001b[0m",
      "\u001b[1;31mFileNotFoundError\u001b[0m                         Traceback (most recent call last)",
      "\u001b[1;32mc:\\EiA\\tcc\\CNN\\CNN_models_multivariate.ipynb Cell 23\u001b[0m line \u001b[0;36m1\n\u001b[1;32m----> <a href='vscode-notebook-cell:/c%3A/EiA/tcc/CNN/CNN_models_multivariate.ipynb#X32sZmlsZQ%3D%3D?line=0'>1</a>\u001b[0m m_row_train, m_row_test \u001b[39m=\u001b[39m get_search_dataset_multivariate(\u001b[39m'\u001b[39;49m\u001b[39mmulti_u2_tmax_lat-21.95_lon-46.65.csv\u001b[39;49m\u001b[39m'\u001b[39;49m, n_var\u001b[39m=\u001b[39;49m\u001b[39m3\u001b[39;49m)\n",
      "\u001b[1;32mc:\\EiA\\tcc\\CNN\\CNN_models_multivariate.ipynb Cell 23\u001b[0m line \u001b[0;36m2\n\u001b[0;32m      <a href='vscode-notebook-cell:/c%3A/EiA/tcc/CNN/CNN_models_multivariate.ipynb#X32sZmlsZQ%3D%3D?line=0'>1</a>\u001b[0m \u001b[39mdef\u001b[39;00m \u001b[39mget_search_dataset_multivariate\u001b[39m(dataset, n_var):\n\u001b[1;32m----> <a href='vscode-notebook-cell:/c%3A/EiA/tcc/CNN/CNN_models_multivariate.ipynb#X32sZmlsZQ%3D%3D?line=1'>2</a>\u001b[0m     df1 \u001b[39m=\u001b[39m pd\u001b[39m.\u001b[39;49mread_csv(dataset, sep\u001b[39m=\u001b[39;49m\u001b[39m'\u001b[39;49m\u001b[39m,\u001b[39;49m\u001b[39m'\u001b[39;49m) \u001b[39m# 7305 registros\u001b[39;00m\n\u001b[0;32m      <a href='vscode-notebook-cell:/c%3A/EiA/tcc/CNN/CNN_models_multivariate.ipynb#X32sZmlsZQ%3D%3D?line=2'>3</a>\u001b[0m     series \u001b[39m=\u001b[39m df1\u001b[39m.\u001b[39miloc[:,\u001b[39m1\u001b[39m:n_var\u001b[39m+\u001b[39m\u001b[39m1\u001b[39m]\n\u001b[0;32m      <a href='vscode-notebook-cell:/c%3A/EiA/tcc/CNN/CNN_models_multivariate.ipynb#X32sZmlsZQ%3D%3D?line=3'>4</a>\u001b[0m     norm_df \u001b[39m=\u001b[39m normalize(series)\n",
      "File \u001b[1;32mc:\\Users\\tecnoind\\AppData\\Local\\Programs\\Python\\Python311\\Lib\\site-packages\\pandas\\io\\parsers\\readers.py:912\u001b[0m, in \u001b[0;36mread_csv\u001b[1;34m(filepath_or_buffer, sep, delimiter, header, names, index_col, usecols, dtype, engine, converters, true_values, false_values, skipinitialspace, skiprows, skipfooter, nrows, na_values, keep_default_na, na_filter, verbose, skip_blank_lines, parse_dates, infer_datetime_format, keep_date_col, date_parser, date_format, dayfirst, cache_dates, iterator, chunksize, compression, thousands, decimal, lineterminator, quotechar, quoting, doublequote, escapechar, comment, encoding, encoding_errors, dialect, on_bad_lines, delim_whitespace, low_memory, memory_map, float_precision, storage_options, dtype_backend)\u001b[0m\n\u001b[0;32m    899\u001b[0m kwds_defaults \u001b[39m=\u001b[39m _refine_defaults_read(\n\u001b[0;32m    900\u001b[0m     dialect,\n\u001b[0;32m    901\u001b[0m     delimiter,\n\u001b[1;32m   (...)\u001b[0m\n\u001b[0;32m    908\u001b[0m     dtype_backend\u001b[39m=\u001b[39mdtype_backend,\n\u001b[0;32m    909\u001b[0m )\n\u001b[0;32m    910\u001b[0m kwds\u001b[39m.\u001b[39mupdate(kwds_defaults)\n\u001b[1;32m--> 912\u001b[0m \u001b[39mreturn\u001b[39;00m _read(filepath_or_buffer, kwds)\n",
      "File \u001b[1;32mc:\\Users\\tecnoind\\AppData\\Local\\Programs\\Python\\Python311\\Lib\\site-packages\\pandas\\io\\parsers\\readers.py:577\u001b[0m, in \u001b[0;36m_read\u001b[1;34m(filepath_or_buffer, kwds)\u001b[0m\n\u001b[0;32m    574\u001b[0m _validate_names(kwds\u001b[39m.\u001b[39mget(\u001b[39m\"\u001b[39m\u001b[39mnames\u001b[39m\u001b[39m\"\u001b[39m, \u001b[39mNone\u001b[39;00m))\n\u001b[0;32m    576\u001b[0m \u001b[39m# Create the parser.\u001b[39;00m\n\u001b[1;32m--> 577\u001b[0m parser \u001b[39m=\u001b[39m TextFileReader(filepath_or_buffer, \u001b[39m*\u001b[39;49m\u001b[39m*\u001b[39;49mkwds)\n\u001b[0;32m    579\u001b[0m \u001b[39mif\u001b[39;00m chunksize \u001b[39mor\u001b[39;00m iterator:\n\u001b[0;32m    580\u001b[0m     \u001b[39mreturn\u001b[39;00m parser\n",
      "File \u001b[1;32mc:\\Users\\tecnoind\\AppData\\Local\\Programs\\Python\\Python311\\Lib\\site-packages\\pandas\\io\\parsers\\readers.py:1407\u001b[0m, in \u001b[0;36mTextFileReader.__init__\u001b[1;34m(self, f, engine, **kwds)\u001b[0m\n\u001b[0;32m   1404\u001b[0m     \u001b[39mself\u001b[39m\u001b[39m.\u001b[39moptions[\u001b[39m\"\u001b[39m\u001b[39mhas_index_names\u001b[39m\u001b[39m\"\u001b[39m] \u001b[39m=\u001b[39m kwds[\u001b[39m\"\u001b[39m\u001b[39mhas_index_names\u001b[39m\u001b[39m\"\u001b[39m]\n\u001b[0;32m   1406\u001b[0m \u001b[39mself\u001b[39m\u001b[39m.\u001b[39mhandles: IOHandles \u001b[39m|\u001b[39m \u001b[39mNone\u001b[39;00m \u001b[39m=\u001b[39m \u001b[39mNone\u001b[39;00m\n\u001b[1;32m-> 1407\u001b[0m \u001b[39mself\u001b[39m\u001b[39m.\u001b[39m_engine \u001b[39m=\u001b[39m \u001b[39mself\u001b[39;49m\u001b[39m.\u001b[39;49m_make_engine(f, \u001b[39mself\u001b[39;49m\u001b[39m.\u001b[39;49mengine)\n",
      "File \u001b[1;32mc:\\Users\\tecnoind\\AppData\\Local\\Programs\\Python\\Python311\\Lib\\site-packages\\pandas\\io\\parsers\\readers.py:1661\u001b[0m, in \u001b[0;36mTextFileReader._make_engine\u001b[1;34m(self, f, engine)\u001b[0m\n\u001b[0;32m   1659\u001b[0m     \u001b[39mif\u001b[39;00m \u001b[39m\"\u001b[39m\u001b[39mb\u001b[39m\u001b[39m\"\u001b[39m \u001b[39mnot\u001b[39;00m \u001b[39min\u001b[39;00m mode:\n\u001b[0;32m   1660\u001b[0m         mode \u001b[39m+\u001b[39m\u001b[39m=\u001b[39m \u001b[39m\"\u001b[39m\u001b[39mb\u001b[39m\u001b[39m\"\u001b[39m\n\u001b[1;32m-> 1661\u001b[0m \u001b[39mself\u001b[39m\u001b[39m.\u001b[39mhandles \u001b[39m=\u001b[39m get_handle(\n\u001b[0;32m   1662\u001b[0m     f,\n\u001b[0;32m   1663\u001b[0m     mode,\n\u001b[0;32m   1664\u001b[0m     encoding\u001b[39m=\u001b[39;49m\u001b[39mself\u001b[39;49m\u001b[39m.\u001b[39;49moptions\u001b[39m.\u001b[39;49mget(\u001b[39m\"\u001b[39;49m\u001b[39mencoding\u001b[39;49m\u001b[39m\"\u001b[39;49m, \u001b[39mNone\u001b[39;49;00m),\n\u001b[0;32m   1665\u001b[0m     compression\u001b[39m=\u001b[39;49m\u001b[39mself\u001b[39;49m\u001b[39m.\u001b[39;49moptions\u001b[39m.\u001b[39;49mget(\u001b[39m\"\u001b[39;49m\u001b[39mcompression\u001b[39;49m\u001b[39m\"\u001b[39;49m, \u001b[39mNone\u001b[39;49;00m),\n\u001b[0;32m   1666\u001b[0m     memory_map\u001b[39m=\u001b[39;49m\u001b[39mself\u001b[39;49m\u001b[39m.\u001b[39;49moptions\u001b[39m.\u001b[39;49mget(\u001b[39m\"\u001b[39;49m\u001b[39mmemory_map\u001b[39;49m\u001b[39m\"\u001b[39;49m, \u001b[39mFalse\u001b[39;49;00m),\n\u001b[0;32m   1667\u001b[0m     is_text\u001b[39m=\u001b[39;49mis_text,\n\u001b[0;32m   1668\u001b[0m     errors\u001b[39m=\u001b[39;49m\u001b[39mself\u001b[39;49m\u001b[39m.\u001b[39;49moptions\u001b[39m.\u001b[39;49mget(\u001b[39m\"\u001b[39;49m\u001b[39mencoding_errors\u001b[39;49m\u001b[39m\"\u001b[39;49m, \u001b[39m\"\u001b[39;49m\u001b[39mstrict\u001b[39;49m\u001b[39m\"\u001b[39;49m),\n\u001b[0;32m   1669\u001b[0m     storage_options\u001b[39m=\u001b[39;49m\u001b[39mself\u001b[39;49m\u001b[39m.\u001b[39;49moptions\u001b[39m.\u001b[39;49mget(\u001b[39m\"\u001b[39;49m\u001b[39mstorage_options\u001b[39;49m\u001b[39m\"\u001b[39;49m, \u001b[39mNone\u001b[39;49;00m),\n\u001b[0;32m   1670\u001b[0m )\n\u001b[0;32m   1671\u001b[0m \u001b[39massert\u001b[39;00m \u001b[39mself\u001b[39m\u001b[39m.\u001b[39mhandles \u001b[39mis\u001b[39;00m \u001b[39mnot\u001b[39;00m \u001b[39mNone\u001b[39;00m\n\u001b[0;32m   1672\u001b[0m f \u001b[39m=\u001b[39m \u001b[39mself\u001b[39m\u001b[39m.\u001b[39mhandles\u001b[39m.\u001b[39mhandle\n",
      "File \u001b[1;32mc:\\Users\\tecnoind\\AppData\\Local\\Programs\\Python\\Python311\\Lib\\site-packages\\pandas\\io\\common.py:859\u001b[0m, in \u001b[0;36mget_handle\u001b[1;34m(path_or_buf, mode, encoding, compression, memory_map, is_text, errors, storage_options)\u001b[0m\n\u001b[0;32m    854\u001b[0m \u001b[39melif\u001b[39;00m \u001b[39misinstance\u001b[39m(handle, \u001b[39mstr\u001b[39m):\n\u001b[0;32m    855\u001b[0m     \u001b[39m# Check whether the filename is to be opened in binary mode.\u001b[39;00m\n\u001b[0;32m    856\u001b[0m     \u001b[39m# Binary mode does not support 'encoding' and 'newline'.\u001b[39;00m\n\u001b[0;32m    857\u001b[0m     \u001b[39mif\u001b[39;00m ioargs\u001b[39m.\u001b[39mencoding \u001b[39mand\u001b[39;00m \u001b[39m\"\u001b[39m\u001b[39mb\u001b[39m\u001b[39m\"\u001b[39m \u001b[39mnot\u001b[39;00m \u001b[39min\u001b[39;00m ioargs\u001b[39m.\u001b[39mmode:\n\u001b[0;32m    858\u001b[0m         \u001b[39m# Encoding\u001b[39;00m\n\u001b[1;32m--> 859\u001b[0m         handle \u001b[39m=\u001b[39m \u001b[39mopen\u001b[39m(\n\u001b[0;32m    860\u001b[0m             handle,\n\u001b[0;32m    861\u001b[0m             ioargs\u001b[39m.\u001b[39mmode,\n\u001b[0;32m    862\u001b[0m             encoding\u001b[39m=\u001b[39mioargs\u001b[39m.\u001b[39mencoding,\n\u001b[0;32m    863\u001b[0m             errors\u001b[39m=\u001b[39merrors,\n\u001b[0;32m    864\u001b[0m             newline\u001b[39m=\u001b[39m\u001b[39m\"\u001b[39m\u001b[39m\"\u001b[39m,\n\u001b[0;32m    865\u001b[0m         )\n\u001b[0;32m    866\u001b[0m     \u001b[39melse\u001b[39;00m:\n\u001b[0;32m    867\u001b[0m         \u001b[39m# Binary mode\u001b[39;00m\n\u001b[0;32m    868\u001b[0m         handle \u001b[39m=\u001b[39m \u001b[39mopen\u001b[39m(handle, ioargs\u001b[39m.\u001b[39mmode)\n",
      "\u001b[1;31mFileNotFoundError\u001b[0m: [Errno 2] No such file or directory: 'multi_u2_tmax_lat-21.95_lon-46.65.csv'"
     ]
    }
   ],
   "source": [
    "m_row_train, m_row_test = get_search_dataset_multivariate('multi_u2_tmax_lat-21.95_lon-46.65.csv', n_var=3)"
   ]
  },
  {
   "cell_type": "code",
   "execution_count": null,
   "metadata": {},
   "outputs": [],
   "source": [
    "m_u2_tmax_results_CNN1 = []\n",
    "n_var = 3\n",
    "n_execucoes = 5\n",
    "n_previsoes = 1\n",
    "m_train, m_test, m_scaler = es.get_dados(star_CNN1, m_row_train, m_row_test)\n",
    "X_train, y_train, X_test, y_test = basic.slideWindowMulti(m_train, m_test, n_lags=star_CNN1['lags'], n_var=n_var)\n",
    "for i in range(5):\n",
    "  model,_ = basic.modelo_CNN1(X_train, y_train, star_CNN1) \n",
    "  rmse, yhat, y_test = basic.predictModelMulti(m_test, model, n_previsoes=n_previsoes, n_lags=star_CNN1['lags'], n_var=n_var, scaler=m_scaler)\n",
    "  m_u2_tmax_results_CNN1.append(rmse)\n",
    "\n",
    "m_u2_tmax_results_CNN1 = form_data(m_u2_tmax_results_CNN1, '1 (u2, Tmax, ETo)')\n",
    "m_u2_tmax_results_CNN1.to_csv('m_u2_tmax_results_CNN1.csv',index=True)"
   ]
  },
  {
   "cell_type": "code",
   "execution_count": 28,
   "metadata": {},
   "outputs": [
    {
     "data": {
      "text/plain": [
       "Text(0, 0.5, 'RMSE')"
      ]
     },
     "execution_count": 28,
     "metadata": {},
     "output_type": "execute_result"
    },
    {
     "data": {
      "image/png": "[encoded data removed]",
      "text/plain": [
       "<Figure size 1400x600 with 1 Axes>"
      ]
     },
     "metadata": {},
     "output_type": "display_data"
    }
   ],
   "source": [
    "# u_CNN1 = pd.read_csv('u_results_CNN1',delimiter=',')\n",
    "# u_CNN1 = u_CNN1[u_CNN1['Unnamed: 0'].isin([0,2,6,9])]\n",
    "\n",
    "m_rs_CNN1 = pd.read_csv('m_rs_results_CNN1.csv',delimiter=',')\n",
    "m_rs_CNN1 = m_rs_CNN1[m_rs_CNN1['Unnamed: 0'].isin([0,2,6,9])]\n",
    "\n",
    "m_u2_CNN1 = pd.read_csv('m_u2_results_CNN1.csv',delimiter=',')\n",
    "m_u2_CNN1 = m_u2_CNN1[m_u2_CNN1['Unnamed: 0'].isin([0,2,6,9])]\n",
    "\n",
    "m_rh_CNN1 = pd.read_csv('m_rh_results_CNN1.csv',delimiter=',')\n",
    "m_rh_CNN1 = m_rh_CNN1[m_rh_CNN1['Unnamed: 0'].isin([0,2,6,9])]\n",
    "\n",
    "m_tmax_CNN1 = pd.read_csv('m_tmax_results_CNN1.csv',delimiter=',')\n",
    "m_tmax_CNN1 = m_tmax_CNN1[m_tmax_CNN1['Unnamed: 0'].isin([0,2,6,9])]\n",
    "\n",
    "m_tmin_CNN1 = pd.read_csv('m_tmin_results_CNN1.csv',delimiter=',')\n",
    "m_tmin_CNN1 = m_tmin_CNN1[m_tmin_CNN1['Unnamed: 0'].isin([0,2,6,9])]\n",
    "\n",
    "m_pr_CNN1 = pd.read_csv('m_pr_results_CNN1.csv',delimiter=',')\n",
    "m_pr_CNN1 = m_pr_CNN1[m_pr_CNN1['Unnamed: 0'].isin([0,2,6,9])]\n",
    "\n",
    "m_rs_u2_CNN1 = pd.read_csv('m_rs_u2_results_CNN1.csv',delimiter=',')\n",
    "m_rs_u2_CNN1 = m_rs_u2_CNN1[m_rs_u2_CNN1['Unnamed: 0'].isin([0,2,6,9])]\n",
    "\n",
    "# m_u2_tmax_CNN1 = pd.read_csv('m_u2_tmax_results_CNN1.csv',delimiter=',')\n",
    "# m_u2_tmax_CNN1 = m_u2_tmax_CNN1[m_u2_tmax_CNN1['Unnamed: 0'].isin([0,2,6,9])]\n",
    "\n",
    "frames = [m_rs_CNN1, m_u2_CNN1, m_rh_CNN1, m_tmax_CNN1, m_tmin_CNN1, m_pr_CNN1, m_rs_u2_CNN1]\n",
    "result = pd.concat(frames, ignore_index=True)\n",
    "result['Unnamed: 0'] = result['Unnamed: 0'] + 1\n",
    "\n",
    "# plt.style.use('seaborn-paper')\n",
    "sns.set_style(\"whitegrid\")\n",
    "fig, ax = plt.subplots(nrows=1, ncols=1, figsize=[14,6], dpi=100)\n",
    "g1 = sns.boxplot(x=result.iloc[:,0], y=result.iloc[:,1], hue=result.iloc[:,2], data=result, palette=\"tab20\", linewidth=0.7, saturation=1)\n",
    "plt.tick_params(labelsize=12)\n",
    "# plt.xticks([1,3,7,10])\n",
    "plt.xlabel(\"Horizontes de previsão\", fontsize=14)\n",
    "plt.ylabel(\"RMSE\", fontsize=14)"
   ]
  }
 ],
 "metadata": {
  "kernelspec": {
   "display_name": "Python 3.8.7 64-bit",
   "language": "python",
   "name": "python3"
  },
  "language_info": {
   "codemirror_mode": {
    "name": "ipython",
    "version": 3
   },
   "file_extension": ".py",
   "mimetype": "text/x-python",
   "name": "python",
   "nbconvert_exporter": "python",
   "pygments_lexer": "ipython3",
   "version": "3.11.3"
  },
  "orig_nbformat": 4,
  "vscode": {
   "interpreter": {
    "hash": "9d87e67db777b4b0db676edb6578e0de57a75ced3517006e5561808a12abc48f"
   }
  }
 },
 "nbformat": 4,
 "nbformat_minor": 2
}
