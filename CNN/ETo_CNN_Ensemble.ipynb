{
  "cells": [
    {
      "cell_type": "markdown",
      "metadata": {
        "colab_type": "text",
        "id": "view-in-github"
      },
      "source": [
        "<a href=\"https://colab.research.google.com/github/PatriciaLucas/CNN/blob/master/Previsao_ETo_CNN_Ensemble.ipynb\" target=\"_parent\"><img src=\"https://colab.research.google.com/assets/colab-badge.svg\" alt=\"Open In Colab\"/></a>"
      ]
    },
    {
      "cell_type": "markdown",
      "metadata": {
        "colab_type": "text",
        "id": "FacHtzj1zyug"
      },
      "source": [
        "# Reference evapotranspiration prediction with individual CNN models and CNN ensemble\n",
        "\n",
        "  \n"
      ]
    },
    {
      "cell_type": "markdown",
      "metadata": {},
      "source": [
        "##Inports"
      ]
    },
    {
      "cell_type": "code",
      "execution_count": 1,
      "metadata": {
        "colab": {
          "base_uri": "https://localhost:8080/",
          "height": 354
        },
        "colab_type": "code",
        "id": "ZHekqWm7sEFX",
        "outputId": "4febd1d5-1fe8-44a3-b3d2-fd50695c3ef1"
      },
      "outputs": [],
      "source": [
        "# !pip install keras-tcn==2.8.3\n",
        "# !git clone https://github.com/PatriciaLucas/CNN\n",
        "# from CNN import Ensemble as es\n",
        "# from CNN import basic\n",
        "import Ensemble as es\n",
        "import basic\n",
        "import numpy as np\n",
        "import pandas as pd\n",
        "import matplotlib as plt\n",
        "import matplotlib.pyplot as plt\n",
        "import seaborn as sns\n",
        "from statsmodels.graphics.tsaplots import plot_acf\n",
        "from scipy import stats\n",
        "import warnings\n",
        "# from google.colab import files\n",
        "warnings.filterwarnings(\"ignore\")"
      ]
    },
    {
      "cell_type": "markdown",
      "metadata": {
        "colab_type": "text",
        "id": "iGnk-fIK3Dbm"
      },
      "source": [
        "##Database"
      ]
    },
    {
      "cell_type": "code",
      "execution_count": 2,
      "metadata": {
        "colab": {},
        "colab_type": "code",
        "id": "61lR5QH1sH0n"
      },
      "outputs": [],
      "source": [
        "def get_search_dataset(dataset):\n",
        "    df1 = pd.read_csv(dataset, sep=',') # 7305 registros\n",
        "    series = df1.iloc[:,1]\n",
        "    train = series[:6939]\n",
        "    test = series[6939:]\n",
        "    return train, test"
      ]
    },
    {
      "cell_type": "code",
      "execution_count": 3,
      "metadata": {},
      "outputs": [],
      "source": [
        "def get_search_dataset_multivariate(dataset, n_var):\n",
        "    df1 = pd.read_csv(dataset, sep=',') # 7305 registros\n",
        "    series = df1.iloc[:,1:n_var+1]\n",
        "    train = series[:6939]\n",
        "    test = series[6939:]\n",
        "    return train, test"
      ]
    },
    {
      "cell_type": "code",
      "execution_count": 4,
      "metadata": {},
      "outputs": [],
      "source": [
        "def form_data(data, t):  \n",
        "  df = pd.DataFrame(data)\n",
        "  df1 = df.T\n",
        "  frames = [df1.iloc[:,0], df1.iloc[:,1], df1.iloc[:,2], df1.iloc[:,3], df1.iloc[:,4]]#, df1.iloc[:,5], df1.iloc[:,6], df1.iloc[:,7], df1.iloc[:,8], df1.iloc[:,9], df1.iloc[:,10], df1.iloc[:,11],\n",
        "        #  df1.iloc[:,12], df1.iloc[:,13], df1.iloc[:,14], df1.iloc[:,15], df1.iloc[:,16], df1.iloc[:,17],df1.iloc[:,18], df1.iloc[:,19], df1.iloc[:,20], df1.iloc[:,21], df1.iloc[:,22], \n",
        "        #  df1.iloc[:,23], df1.iloc[:,24], df1.iloc[:,25], df1.iloc[:,26], df1.iloc[:,27], df1.iloc[:,28], df1.iloc[:,29]]\n",
        "  result = pd.concat(frames)\n",
        "  r = pd.DataFrame(result) \n",
        "  r.insert(1, \"Model\", True) \n",
        "  for i in range(50):\n",
        "      r['Model'].iloc[i] = 'CNN'+ t\n",
        "  return r"
      ]
    },
    {
      "cell_type": "code",
      "execution_count": 5,
      "metadata": {
        "colab": {},
        "colab_type": "code",
        "id": "_IHn8Gq_XMRp"
      },
      "outputs": [],
      "source": [
        "star_CNN1 = {'filters': 1, 'pool': 0, 'pool_size': 3, 'dropout': 0.012594059561340142, 'norm': 1, 'lags': 4, 'num_conv': 1, 'kernel_size': 3, 'rmse': 0.7696852129001718, 'num_param': 449}\n",
        "# star_CNN2 = {'filters': 1, 'dropout': 0, 'norm': 1, 'lags': 4, 'num_conv': 1, 'kernel_size': 0, 'rmse': 0.7566198577347709, 'num_param': 449}\n",
        "# star_CNN3 = {'pilhas': 2, 'filters': 1, 'dropout': 0.2, 'norm': 1, 'lags': 48, 'num_conv': 3, 'kernel_size': 2, 'rmse': 0.7530, 'num_param': 68257} "
      ]
    },
    {
      "cell_type": "markdown",
      "metadata": {},
      "source": [
        "### Univariate CNN1"
      ]
    },
    {
      "cell_type": "code",
      "execution_count": 6,
      "metadata": {},
      "outputs": [],
      "source": [
        "# train, test = get_search_dataset() \n",
        "u_row_train, u_row_test = get_search_dataset('uni_lat-21.95_lon-46.65.csv')"
      ]
    },
    {
      "cell_type": "code",
      "execution_count": 7,
      "metadata": {
        "colab": {},
        "colab_type": "code",
        "id": "DESzkohkdK8V"
      },
      "outputs": [
        {
          "name": "stdout",
          "output_type": "stream",
          "text": [
            "Epoch 97: early stopping\n",
            "Epoch 83: early stopping\n",
            "Epoch 99: early stopping\n",
            "Epoch 63: early stopping\n"
          ]
        }
      ],
      "source": [
        "u_results_CNN1 = []\n",
        "u_train, u_test, u_scaler = es.get_dados(star_CNN1, u_row_train, u_row_test)\n",
        "X_train, y_train, X_test, y_test = basic.slideWindow(u_train, u_test, star_CNN1['lags'])\n",
        "for i in range(5):\n",
        "  model,_ = basic.modelo_CNN1(X_train, y_train, star_CNN1)\n",
        "  rmse, yhat, y_test = basic.predictModel(u_test, model, 10, star_CNN1['lags'], scaler=u_scaler)\n",
        "  u_results_CNN1.append(rmse)\n",
        "\n",
        "u_results_CNN1 = form_data(u_results_CNN1, '1 (ETo)')\n",
        "u_results_CNN1.to_csv('u_results_CNN1.csv',index=True)"
      ]
    },
    {
      "cell_type": "code",
      "execution_count": 8,
      "metadata": {},
      "outputs": [],
      "source": [
        "# u_results_CNN1_1 = []\n",
        "# u_train, u_test, u_scaler = es.get_dados(star_CNN1, u_row_train, u_row_test)\n",
        "# X_train, y_train, X_test, y_test = basic.slideWindowMulti(u_train, u_test, star_CNN1['lags'], 1)\n",
        "# for i in range(5):\n",
        "#   model,_ = basic.modelo_CNN1(X_train, y_train, star_CNN1)\n",
        "#   rmse, yhat, y_test = basic.predictModelMulti(u_test, model, 10, star_CNN1['lags'], 1, scaler=u_scaler)\n",
        "#   u_results_CNN1_1.append(rmse)\n",
        "\n",
        "# u_results_CNN1_1 = form_data(u_results_CNN1_1, '1.1 (ETo)')\n",
        "# u_results_CNN1_1.to_csv('u_results_CNN1_1.csv',index=True)"
      ]
    },
    {
      "cell_type": "markdown",
      "metadata": {
        "colab_type": "text",
        "id": "RHquOFOsfNOS"
      },
      "source": [
        "### Multivariate CNN1"
      ]
    },
    {
      "cell_type": "code",
      "execution_count": 9,
      "metadata": {},
      "outputs": [],
      "source": [
        "m_row_train, m_row_test = get_search_dataset_multivariate('multi_rs_lat-21.95_lon-46.65.csv', n_var=2)"
      ]
    },
    {
      "cell_type": "code",
      "execution_count": 10,
      "metadata": {
        "colab": {},
        "colab_type": "code",
        "id": "60XGNp9_fP2q"
      },
      "outputs": [
        {
          "name": "stdout",
          "output_type": "stream",
          "text": [
            "Epoch 54: early stopping\n",
            "Epoch 46: early stopping\n",
            "Epoch 30: early stopping\n"
          ]
        }
      ],
      "source": [
        "m_rs_results_CNN1 = []\n",
        "n_var = 2\n",
        "m_train, m_test, m_scaler = es.get_dados(star_CNN1, m_row_train, m_row_test)\n",
        "X_train, y_train, X_test, y_test = basic.slideWindowMulti(m_train, m_test, n_lags=star_CNN1['lags'], n_var=n_var)\n",
        "for i in range(5):\n",
        "  model,_ = basic.modelo_CNN1(X_train, y_train, star_CNN1) \n",
        "  rmse, yhat, y_test = basic.predictModelMulti(m_test, model, n_previsoes=10, n_lags=star_CNN1['lags'], n_var=n_var, scaler=m_scaler)\n",
        "  m_rs_results_CNN1.append(rmse)\n",
        "\n",
        "m_rs_results_CNN1 = form_data(m_rs_results_CNN1, '1 (Rs, ETo)')\n",
        "m_rs_results_CNN1.to_csv('m_rs_results_CNN1.csv',index=True)"
      ]
    },
    {
      "cell_type": "code",
      "execution_count": 11,
      "metadata": {},
      "outputs": [],
      "source": [
        "m_row_train, m_row_test = get_search_dataset_multivariate('multi_u2_lat-21.95_lon-46.65.csv', n_var=2)"
      ]
    },
    {
      "cell_type": "code",
      "execution_count": 12,
      "metadata": {},
      "outputs": [
        {
          "name": "stdout",
          "output_type": "stream",
          "text": [
            "Epoch 91: early stopping\n",
            "Epoch 84: early stopping\n",
            "Epoch 66: early stopping\n",
            "Epoch 65: early stopping\n"
          ]
        }
      ],
      "source": [
        "m_u2_results_CNN1 = []\n",
        "n_var = 2\n",
        "m_train, m_test, m_scaler = es.get_dados(star_CNN1, m_row_train, m_row_test)\n",
        "X_train, y_train, X_test, y_test = basic.slideWindowMulti(m_train, m_test, n_lags=star_CNN1['lags'], n_var=n_var)\n",
        "for i in range(5):\n",
        "  model,_ = basic.modelo_CNN1(X_train, y_train, star_CNN1) \n",
        "  rmse, yhat, y_test = basic.predictModelMulti(m_test, model, n_previsoes=10, n_lags=star_CNN1['lags'], n_var=n_var, scaler=m_scaler)\n",
        "  m_u2_results_CNN1.append(rmse)\n",
        "\n",
        "m_u2_results_CNN1 = form_data(m_u2_results_CNN1, '1 (u2, ETo)')\n",
        "m_u2_results_CNN1.to_csv('m_u2_results_CNN1.csv',index=True)"
      ]
    },
    {
      "cell_type": "code",
      "execution_count": 13,
      "metadata": {},
      "outputs": [],
      "source": [
        "m_row_train, m_row_test = get_search_dataset_multivariate('multi_rh_lat-21.95_lon-46.65.csv', n_var=2)"
      ]
    },
    {
      "cell_type": "code",
      "execution_count": 14,
      "metadata": {},
      "outputs": [
        {
          "name": "stdout",
          "output_type": "stream",
          "text": [
            "Epoch 81: early stopping\n",
            "Epoch 21: early stopping\n",
            "Epoch 78: early stopping\n",
            "Epoch 22: early stopping\n",
            "Epoch 30: early stopping\n"
          ]
        }
      ],
      "source": [
        "m_rh_results_CNN1 = []\n",
        "n_var = 2\n",
        "m_train, m_test, m_scaler = es.get_dados(star_CNN1, m_row_train, m_row_test)\n",
        "X_train, y_train, X_test, y_test = basic.slideWindowMulti(m_train, m_test, n_lags=star_CNN1['lags'], n_var=n_var)\n",
        "for i in range(5):\n",
        "  model,_ = basic.modelo_CNN1(X_train, y_train, star_CNN1) \n",
        "  rmse, yhat, y_test = basic.predictModelMulti(m_test, model, n_previsoes=10, n_lags=star_CNN1['lags'], n_var=n_var, scaler=m_scaler)\n",
        "  m_rh_results_CNN1.append(rmse)\n",
        "\n",
        "m_rh_results_CNN1 = form_data(m_rh_results_CNN1, '1 (RH, ETo)')\n",
        "m_rh_results_CNN1.to_csv('m_rh_results_CNN1.csv',index=True)"
      ]
    },
    {
      "cell_type": "code",
      "execution_count": 15,
      "metadata": {},
      "outputs": [],
      "source": [
        "m_row_train, m_row_test = get_search_dataset_multivariate('multi_rs_u2_lat-21.95_lon-46.65.csv', n_var=3)"
      ]
    },
    {
      "cell_type": "code",
      "execution_count": 16,
      "metadata": {},
      "outputs": [
        {
          "name": "stdout",
          "output_type": "stream",
          "text": [
            "Epoch 73: early stopping\n",
            "Epoch 63: early stopping\n",
            "Epoch 82: early stopping\n"
          ]
        }
      ],
      "source": [
        "m_rs_u2_results_CNN1 = []\n",
        "n_var = 3\n",
        "m_train, m_test, m_scaler = es.get_dados(star_CNN1, m_row_train, m_row_test)\n",
        "X_train, y_train, X_test, y_test = basic.slideWindowMulti(m_train, m_test, n_lags=star_CNN1['lags'], n_var=n_var)\n",
        "for i in range(5):\n",
        "  model,_ = basic.modelo_CNN1(X_train, y_train, star_CNN1) \n",
        "  rmse, yhat, y_test = basic.predictModelMulti(m_test, model, n_previsoes=10, n_lags=star_CNN1['lags'], n_var=n_var, scaler=m_scaler)\n",
        "  m_rs_u2_results_CNN1.append(rmse)\n",
        "\n",
        "m_rs_u2_results_CNN1 = form_data(m_rs_u2_results_CNN1, '1 (Rs, u2, ETo)')\n",
        "m_rs_u2_results_CNN1.to_csv('m_rs_u2_results_CNN1.csv',index=True)"
      ]
    },
    {
      "cell_type": "markdown",
      "metadata": {},
      "source": [
        "### BoxPlot"
      ]
    },
    {
      "cell_type": "code",
      "execution_count": 19,
      "metadata": {
        "colab": {
          "base_uri": "https://localhost:8080/",
          "height": 560
        },
        "colab_type": "code",
        "id": "mEcrFkGOqFbl",
        "outputId": "da7f0715-7fa4-447e-97bb-54cefe09e063"
      },
      "outputs": [
        {
          "data": {
            "text/plain": [
              "Text(0, 0.5, 'RMSE')"
            ]
          },
          "execution_count": 19,
          "metadata": {},
          "output_type": "execute_result"
        },
        {
          "data": {
            "image/png": "[encoded data removed]",
            "text/plain": [
              "<Figure size 1400x600 with 1 Axes>"
            ]
          },
          "metadata": {},
          "output_type": "display_data"
        }
      ],
      "source": [
        "u_CNN1 = pd.read_csv('u_results_CNN1',delimiter=',')\n",
        "u_CNN1 = u_CNN1[u_CNN1['Unnamed: 0'].isin([0,2,6,9])]\n",
        "\n",
        "# u_CNN1_1 = pd.read_csv('u_results_CNN1_1',delimiter=',')\n",
        "# u_CNN1_1 = u_CNN1_1[u_CNN1_1['Unnamed: 0'].isin([0,2,6,9])]\n",
        "\n",
        "m_rs_CNN1 = pd.read_csv('m_rs_results_CNN1.csv',delimiter=',')\n",
        "m_rs_CNN1 = m_rs_CNN1[m_rs_CNN1['Unnamed: 0'].isin([0,2,6,9])]\n",
        "\n",
        "m_u2_CNN1 = pd.read_csv('m_u2_results_CNN1.csv',delimiter=',')\n",
        "m_u2_CNN1 = m_u2_CNN1[m_u2_CNN1['Unnamed: 0'].isin([0,2,6,9])]\n",
        "\n",
        "m_rh_CNN1 = pd.read_csv('m_rh_results_CNN1.csv',delimiter=',')\n",
        "m_rh_CNN1 = m_rh_CNN1[m_rh_CNN1['Unnamed: 0'].isin([0,2,6,9])]\n",
        "\n",
        "m_rs_u2_CNN1 = pd.read_csv('m_rs_u2_results_CNN1.csv',delimiter=',')\n",
        "m_rs_u2_CNN1 = m_rs_u2_CNN1[m_rs_u2_CNN1['Unnamed: 0'].isin([0,2,6,9])]\n",
        "\n",
        "frames = [u_CNN1, u_CNN1, m_rs_CNN1, m_u2_CNN1, m_rh_CNN1, m_rs_u2_CNN1]\n",
        "result = pd.concat(frames, ignore_index=True)\n",
        "\n",
        "plt.style.use('seaborn')\n",
        "sns.set_style(\"whitegrid\")\n",
        "fig, ax = plt.subplots(nrows=1, ncols=1, figsize=[14,6], dpi=100)\n",
        "g1 = sns.boxplot(x=result.iloc[:,0], y=result.iloc[:,1], hue=result.iloc[:,2], data=result, palette=\"tab20\", linewidth=0.7, saturation=1)\n",
        "plt.tick_params(labelsize=12)\n",
        "# plt.xticks([1,3,7,10])\n",
        "plt.xlabel(\"Horizontes de previsão\", fontsize=14)\n",
        "plt.ylabel(\"RMSE\", fontsize=14)"
      ]
    }
  ],
  "metadata": {
    "colab": {
      "authorship_tag": "ABX9TyPMI/0ns4SVxrGm0MSpslP8",
      "collapsed_sections": [],
      "include_colab_link": true,
      "name": "Previsao_ETo_CNN_Ensemble.ipynb",
      "provenance": []
    },
    "kernelspec": {
      "display_name": "Python 3.8.7 64-bit",
      "language": "python",
      "name": "python3"
    },
    "language_info": {
      "codemirror_mode": {
        "name": "ipython",
        "version": 3
      },
      "file_extension": ".py",
      "mimetype": "text/x-python",
      "name": "python",
      "nbconvert_exporter": "python",
      "pygments_lexer": "ipython3",
      "version": "3.8.7"
    },
    "vscode": {
      "interpreter": {
        "hash": "9d87e67db777b4b0db676edb6578e0de57a75ced3517006e5561808a12abc48f"
      }
    }
  },
  "nbformat": 4,
  "nbformat_minor": 0
}
