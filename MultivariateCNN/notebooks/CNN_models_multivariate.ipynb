{
 "cells": [
  {
   "cell_type": "markdown",
   "metadata": {},
   "source": [
    "### Comparing models"
   ]
  },
  {
   "cell_type": "code",
   "execution_count": 7,
   "metadata": {},
   "outputs": [],
   "source": [
    "# !pip install keras-tcn==2.8.3\n",
    "# !git clone https://github.com/PatriciaLucas/CNN\n",
    "# from CNN import Ensemble as es\n",
    "# from CNN import basic\n",
    "import Ensemble as es\n",
    "import basic\n",
    "import numpy as np\n",
    "import pandas as pd\n",
    "import matplotlib as plt\n",
    "import matplotlib.pyplot as plt\n",
    "from matplotlib.pylab import rcParams\n",
    "rcParams['figure.figsize'] = 15, 7\n",
    "import seaborn as sns\n",
    "from statsmodels.graphics.tsaplots import plot_acf\n",
    "from scipy import stats\n",
    "from sklearn.metrics import mean_squared_error\n",
    "from sklearn.metrics import mean_absolute_percentage_error\n",
    "from sklearn.metrics import mean_absolute_error\n",
    "\n",
    "from math import sqrt\n",
    "\n",
    "import warnings\n",
    "# from google.colab import files\n",
    "warnings.filterwarnings(\"ignore\")"
   ]
  },
  {
   "cell_type": "code",
   "execution_count": 8,
   "metadata": {},
   "outputs": [],
   "source": [
    "def normalize(df):\n",
    "    mindf = df.min()\n",
    "    maxdf = df.max()\n",
    "    return (df-mindf)/(maxdf-mindf)\n",
    "\n",
    "def denormalize(norm, _min, _max):\n",
    "    return [(n * (_max-_min)) + _min for n in norm]"
   ]
  },
  {
   "cell_type": "code",
   "execution_count": 9,
   "metadata": {},
   "outputs": [],
   "source": [
    "def get_search_dataset_multivariate(dataset, n_var):\n",
    "    df1 = pd.read_csv(dataset, sep=',') # 7305 registros\n",
    "    series = df1.iloc[:,1:n_var+1]\n",
    "    norm_df = normalize(series)\n",
    "    size = int(len(norm_df) * 0.80)\n",
    "    train = series[:size]\n",
    "    test = series[size:]\n",
    "    return train, test"
   ]
  },
  {
   "cell_type": "code",
   "execution_count": 32,
   "metadata": {},
   "outputs": [],
   "source": [
    "def form_data(data, t):  \n",
    "  df = pd.DataFrame(data)\n",
    "  df1 = df.T\n",
    "  frames = [df1.iloc[:,0], df1.iloc[:,1], df1.iloc[:,2], df1.iloc[:,3], df1.iloc[:,4]]#, df1.iloc[:,5], df1.iloc[:,6], df1.iloc[:,7], df1.iloc[:,8], df1.iloc[:,9], df1.iloc[:,10], df1.iloc[:,11],\n",
    "        #  df1.iloc[:,12], df1.iloc[:,13], df1.iloc[:,14], df1.iloc[:,15], df1.iloc[:,16], df1.iloc[:,17],df1.iloc[:,18], df1.iloc[:,19], df1.iloc[:,20], df1.iloc[:,21], df1.iloc[:,22], \n",
    "        #  df1.iloc[:,23], df1.iloc[:,24], df1.iloc[:,25], df1.iloc[:,26], df1.iloc[:,27], df1.iloc[:,28], df1.iloc[:,29]]\n",
    "  result = pd.concat(frames)\n",
    "  r = pd.DataFrame(result) \n",
    "  r.insert(1, \"Model\", True)\n",
    "  for i in range(15): # n_execucoes * n_previsoes\n",
    "      r['Model'].iloc[i] = 'CNN'+ t\n",
    "  return r"
   ]
  },
  {
   "cell_type": "code",
   "execution_count": 11,
   "metadata": {},
   "outputs": [],
   "source": [
    "star_CNN1 = {'filters': 1, 'pool': 0, 'pool_size': 3, 'dropout': 0.012594059561340142, 'norm': 1, 'lags': 4, 'num_conv': 1, 'kernel_size': 3, 'rmse': 0.7696852129001718, 'num_param': 449}\n",
    "# star_CNN2 = {'filters': 1, 'dropout': 0, 'norm': 1, 'lags': 4, 'num_conv': 1, 'kernel_size': 0, 'rmse': 0.7566198577347709, 'num_param': 449}\n",
    "# star_CNN3 = {'pilhas': 2, 'filters': 1, 'dropout': 0.2, 'norm': 1, 'lags': 48, 'num_conv': 3, 'kernel_size': 2, 'rmse': 0.7530, 'num_param': 68257} "
   ]
  },
  {
   "cell_type": "code",
   "execution_count": 12,
   "metadata": {},
   "outputs": [],
   "source": [
    "u_row_train, u_row_test = get_search_dataset_multivariate('uni_lat-21.95_lon-46.65.csv', n_var=1)"
   ]
  },
  {
   "cell_type": "code",
   "execution_count": 13,
   "metadata": {},
   "outputs": [
    {
     "name": "stdout",
     "output_type": "stream",
     "text": [
      "Epoch 83: early stopping\n",
      "Epoch 81: early stopping\n",
      "Epoch 91: early stopping\n",
      "Epoch 95: early stopping\n",
      "Epoch 92: early stopping\n"
     ]
    },
    {
     "ename": "IndexError",
     "evalue": "iloc cannot enlarge its target object",
     "output_type": "error",
     "traceback": [
      "\u001b[1;31m---------------------------------------------------------------------------\u001b[0m",
      "\u001b[1;31mIndexError\u001b[0m                                Traceback (most recent call last)",
      "Cell \u001b[1;32mIn[13], line 10\u001b[0m\n\u001b[0;32m      7\u001b[0m   rmse, yhat, y_test \u001b[38;5;241m=\u001b[39m basic\u001b[38;5;241m.\u001b[39mpredictModelMulti(u_test, model, n_previsoes\u001b[38;5;241m=\u001b[39m\u001b[38;5;241m3\u001b[39m, n_lags\u001b[38;5;241m=\u001b[39mstar_CNN1[\u001b[38;5;124m'\u001b[39m\u001b[38;5;124mlags\u001b[39m\u001b[38;5;124m'\u001b[39m], n_var\u001b[38;5;241m=\u001b[39mn_var, scaler\u001b[38;5;241m=\u001b[39mu_scaler)\n\u001b[0;32m      8\u001b[0m   u_results_CNN1\u001b[38;5;241m.\u001b[39mappend(rmse)\n\u001b[1;32m---> 10\u001b[0m u_results_CNN1 \u001b[38;5;241m=\u001b[39m \u001b[43mform_data\u001b[49m\u001b[43m(\u001b[49m\u001b[43mu_results_CNN1\u001b[49m\u001b[43m,\u001b[49m\u001b[43m \u001b[49m\u001b[38;5;124;43m'\u001b[39;49m\u001b[38;5;124;43m1 (ETo)\u001b[39;49m\u001b[38;5;124;43m'\u001b[39;49m\u001b[43m)\u001b[49m\n\u001b[0;32m     11\u001b[0m u_results_CNN1\u001b[38;5;241m.\u001b[39mto_csv(\u001b[38;5;124m'\u001b[39m\u001b[38;5;124mu_results_CNN1.csv\u001b[39m\u001b[38;5;124m'\u001b[39m,index\u001b[38;5;241m=\u001b[39m\u001b[38;5;28;01mTrue\u001b[39;00m)\n",
      "Cell \u001b[1;32mIn[10], line 11\u001b[0m, in \u001b[0;36mform_data\u001b[1;34m(data, t)\u001b[0m\n\u001b[0;32m      9\u001b[0m r\u001b[38;5;241m.\u001b[39minsert(\u001b[38;5;241m1\u001b[39m, \u001b[38;5;124m\"\u001b[39m\u001b[38;5;124mModel\u001b[39m\u001b[38;5;124m\"\u001b[39m, \u001b[38;5;28;01mTrue\u001b[39;00m) \n\u001b[0;32m     10\u001b[0m \u001b[38;5;28;01mfor\u001b[39;00m i \u001b[38;5;129;01min\u001b[39;00m \u001b[38;5;28mrange\u001b[39m(\u001b[38;5;241m50\u001b[39m):\n\u001b[1;32m---> 11\u001b[0m     \u001b[43mr\u001b[49m\u001b[43m[\u001b[49m\u001b[38;5;124;43m'\u001b[39;49m\u001b[38;5;124;43mModel\u001b[39;49m\u001b[38;5;124;43m'\u001b[39;49m\u001b[43m]\u001b[49m\u001b[38;5;241;43m.\u001b[39;49m\u001b[43miloc\u001b[49m\u001b[43m[\u001b[49m\u001b[43mi\u001b[49m\u001b[43m]\u001b[49m \u001b[38;5;241m=\u001b[39m \u001b[38;5;124m'\u001b[39m\u001b[38;5;124mCNN\u001b[39m\u001b[38;5;124m'\u001b[39m\u001b[38;5;241m+\u001b[39m t\n\u001b[0;32m     12\u001b[0m \u001b[38;5;28;01mreturn\u001b[39;00m r\n",
      "File \u001b[1;32mc:\\Users\\tecnoind.HP-67003B2E\\AppData\\Local\\Programs\\Python\\Python38\\lib\\site-packages\\pandas\\core\\indexing.py:815\u001b[0m, in \u001b[0;36m_LocationIndexer.__setitem__\u001b[1;34m(self, key, value)\u001b[0m\n\u001b[0;32m    813\u001b[0m     key \u001b[39m=\u001b[39m com\u001b[39m.\u001b[39mapply_if_callable(key, \u001b[39mself\u001b[39m\u001b[39m.\u001b[39mobj)\n\u001b[0;32m    814\u001b[0m indexer \u001b[39m=\u001b[39m \u001b[39mself\u001b[39m\u001b[39m.\u001b[39m_get_setitem_indexer(key)\n\u001b[1;32m--> 815\u001b[0m \u001b[39mself\u001b[39;49m\u001b[39m.\u001b[39;49m_has_valid_setitem_indexer(key)\n\u001b[0;32m    817\u001b[0m iloc \u001b[39m=\u001b[39m \u001b[39mself\u001b[39m \u001b[39mif\u001b[39;00m \u001b[39mself\u001b[39m\u001b[39m.\u001b[39mname \u001b[39m==\u001b[39m \u001b[39m\"\u001b[39m\u001b[39miloc\u001b[39m\u001b[39m\"\u001b[39m \u001b[39melse\u001b[39;00m \u001b[39mself\u001b[39m\u001b[39m.\u001b[39mobj\u001b[39m.\u001b[39miloc\n\u001b[0;32m    818\u001b[0m iloc\u001b[39m.\u001b[39m_setitem_with_indexer(indexer, value, \u001b[39mself\u001b[39m\u001b[39m.\u001b[39mname)\n",
      "File \u001b[1;32mc:\\Users\\tecnoind.HP-67003B2E\\AppData\\Local\\Programs\\Python\\Python38\\lib\\site-packages\\pandas\\core\\indexing.py:1518\u001b[0m, in \u001b[0;36m_iLocIndexer._has_valid_setitem_indexer\u001b[1;34m(self, indexer)\u001b[0m\n\u001b[0;32m   1516\u001b[0m \u001b[39melif\u001b[39;00m is_integer(i):\n\u001b[0;32m   1517\u001b[0m     \u001b[39mif\u001b[39;00m i \u001b[39m>\u001b[39m\u001b[39m=\u001b[39m \u001b[39mlen\u001b[39m(ax):\n\u001b[1;32m-> 1518\u001b[0m         \u001b[39mraise\u001b[39;00m \u001b[39mIndexError\u001b[39;00m(\u001b[39m\"\u001b[39m\u001b[39miloc cannot enlarge its target object\u001b[39m\u001b[39m\"\u001b[39m)\n\u001b[0;32m   1519\u001b[0m \u001b[39melif\u001b[39;00m \u001b[39misinstance\u001b[39m(i, \u001b[39mdict\u001b[39m):\n\u001b[0;32m   1520\u001b[0m     \u001b[39mraise\u001b[39;00m \u001b[39mIndexError\u001b[39;00m(\u001b[39m\"\u001b[39m\u001b[39miloc cannot enlarge its target object\u001b[39m\u001b[39m\"\u001b[39m)\n",
      "\u001b[1;31mIndexError\u001b[0m: iloc cannot enlarge its target object"
     ]
    }
   ],
   "source": [
    "u_results_CNN1 = []\n",
    "n_var = 1\n",
    "u_train, u_test, u_scaler = es.get_dados(star_CNN1, u_row_train, u_row_test)\n",
    "X_train, y_train, X_test, y_test = basic.slideWindowMulti(u_train, u_test, n_lags=star_CNN1['lags'], n_var=n_var)\n",
    "for i in range(5):\n",
    "  model,_ = basic.modelo_CNN1(X_train, y_train, star_CNN1)\n",
    "  rmse, yhat, y_test = basic.predictModelMulti(u_test, model, n_previsoes=3, n_lags=star_CNN1['lags'], n_var=n_var, scaler=u_scaler)\n",
    "  u_results_CNN1.append(rmse)\n",
    "\n",
    "u_results_CNN1 = form_data(u_results_CNN1, '1 (ETo)')\n",
    "u_results_CNN1.to_csv('u_results_CNN1.csv',index=True)"
   ]
  },
  {
   "cell_type": "code",
   "execution_count": 33,
   "metadata": {},
   "outputs": [],
   "source": [
    "u_results_CNN1 = form_data(u_results_CNN1, '1 (ETo)')\n",
    "u_results_CNN1.to_csv('u_results_CNN1.csv',index=True)"
   ]
  },
  {
   "cell_type": "code",
   "execution_count": 34,
   "metadata": {},
   "outputs": [],
   "source": [
    "m_row_train, m_row_test = get_search_dataset_multivariate('multi_rs_lat-21.95_lon-46.65.csv', n_var=2)"
   ]
  },
  {
   "cell_type": "code",
   "execution_count": 35,
   "metadata": {},
   "outputs": [
    {
     "name": "stdout",
     "output_type": "stream",
     "text": [
      "Epoch 74: early stopping\n",
      "Epoch 83: early stopping\n",
      "Epoch 57: early stopping\n",
      "Epoch 33: early stopping\n",
      "Epoch 53: early stopping\n"
     ]
    }
   ],
   "source": [
    "m_rs_results_CNN1 = []\n",
    "n_var = 2\n",
    "m_train, m_test, m_scaler = es.get_dados(star_CNN1, m_row_train, m_row_test)\n",
    "X_train, y_train, X_test, y_test = basic.slideWindowMulti(m_train, m_test, n_lags=star_CNN1['lags'], n_var=n_var)\n",
    "for i in range(5):\n",
    "  model,_ = basic.modelo_CNN1(X_train, y_train, star_CNN1) \n",
    "  rmse, yhat, y_test = basic.predictModelMulti(m_test, model, n_previsoes=3, n_lags=star_CNN1['lags'], n_var=n_var, scaler=m_scaler)\n",
    "  m_rs_results_CNN1.append(rmse)\n",
    "\n",
    "m_rs_results_CNN1 = form_data(m_rs_results_CNN1, '1 (Rs, ETo)')\n",
    "m_rs_results_CNN1.to_csv('m_rs_results_CNN1.csv',index=True)"
   ]
  },
  {
   "cell_type": "code",
   "execution_count": 36,
   "metadata": {},
   "outputs": [],
   "source": [
    "m_row_train, m_row_test = get_search_dataset_multivariate('multi_u2_lat-21.95_lon-46.65.csv', n_var=2)"
   ]
  },
  {
   "cell_type": "code",
   "execution_count": 37,
   "metadata": {},
   "outputs": [
    {
     "name": "stdout",
     "output_type": "stream",
     "text": [
      "Epoch 87: early stopping\n",
      "Epoch 88: early stopping\n",
      "Epoch 83: early stopping\n",
      "Epoch 100: early stopping\n"
     ]
    }
   ],
   "source": [
    "m_u2_results_CNN1 = []\n",
    "n_var = 2\n",
    "m_train, m_test, m_scaler = es.get_dados(star_CNN1, m_row_train, m_row_test)\n",
    "X_train, y_train, X_test, y_test = basic.slideWindowMulti(m_train, m_test, n_lags=star_CNN1['lags'], n_var=n_var)\n",
    "for i in range(5):\n",
    "  model,_ = basic.modelo_CNN1(X_train, y_train, star_CNN1) \n",
    "  rmse, yhat, y_test = basic.predictModelMulti(m_test, model, n_previsoes=3, n_lags=star_CNN1['lags'], n_var=n_var, scaler=m_scaler)\n",
    "  m_u2_results_CNN1.append(rmse)\n",
    "\n",
    "m_u2_results_CNN1 = form_data(m_u2_results_CNN1, '1 (u2, ETo)')\n",
    "m_u2_results_CNN1.to_csv('m_u2_results_CNN1.csv',index=True)"
   ]
  },
  {
   "cell_type": "code",
   "execution_count": 38,
   "metadata": {},
   "outputs": [],
   "source": [
    "m_row_train, m_row_test = get_search_dataset_multivariate('multi_rh_lat-21.95_lon-46.65.csv', n_var=2)"
   ]
  },
  {
   "cell_type": "code",
   "execution_count": 39,
   "metadata": {},
   "outputs": [
    {
     "name": "stdout",
     "output_type": "stream",
     "text": [
      "Epoch 24: early stopping\n",
      "Epoch 24: early stopping\n",
      "Epoch 25: early stopping\n",
      "Epoch 32: early stopping\n",
      "Epoch 24: early stopping\n"
     ]
    }
   ],
   "source": [
    "m_rh_results_CNN1 = []\n",
    "n_var = 2\n",
    "m_train, m_test, m_scaler = es.get_dados(star_CNN1, m_row_train, m_row_test)\n",
    "X_train, y_train, X_test, y_test = basic.slideWindowMulti(m_train, m_test, n_lags=star_CNN1['lags'], n_var=n_var)\n",
    "for i in range(5):\n",
    "  model,_ = basic.modelo_CNN1(X_train, y_train, star_CNN1) \n",
    "  rmse, yhat, y_test = basic.predictModelMulti(m_test, model, n_previsoes=3, n_lags=star_CNN1['lags'], n_var=n_var, scaler=m_scaler)\n",
    "  m_rh_results_CNN1.append(rmse)\n",
    "\n",
    "m_rh_results_CNN1 = form_data(m_rh_results_CNN1, '1 (RH, ETo)')\n",
    "m_rh_results_CNN1.to_csv('m_rh_results_CNN1.csv',index=True)"
   ]
  },
  {
   "cell_type": "code",
   "execution_count": 40,
   "metadata": {},
   "outputs": [],
   "source": [
    "m_row_train, m_row_test = get_search_dataset_multivariate('multi_tmax_lat-21.95_lon-46.65.csv', n_var=2)"
   ]
  },
  {
   "cell_type": "code",
   "execution_count": 41,
   "metadata": {},
   "outputs": [
    {
     "name": "stdout",
     "output_type": "stream",
     "text": [
      "Epoch 46: early stopping\n",
      "Epoch 42: early stopping\n",
      "Epoch 61: early stopping\n",
      "Epoch 39: early stopping\n"
     ]
    }
   ],
   "source": [
    "m_tmax_results_CNN1 = []\n",
    "n_var = 2\n",
    "m_train, m_test, m_scaler = es.get_dados(star_CNN1, m_row_train, m_row_test)\n",
    "X_train, y_train, X_test, y_test = basic.slideWindowMulti(m_train, m_test, n_lags=star_CNN1['lags'], n_var=n_var)\n",
    "for i in range(5):\n",
    "  model,_ = basic.modelo_CNN1(X_train, y_train, star_CNN1) \n",
    "  rmse, yhat, y_test = basic.predictModelMulti(m_test, model, n_previsoes=3, n_lags=star_CNN1['lags'], n_var=n_var, scaler=m_scaler)\n",
    "  m_tmax_results_CNN1.append(rmse)\n",
    "\n",
    "m_tmax_results_CNN1 = form_data(m_tmax_results_CNN1, '1 (Tmax, ETo)')\n",
    "m_tmax_results_CNN1.to_csv('m_tmax_results_CNN1.csv',index=True)"
   ]
  },
  {
   "cell_type": "code",
   "execution_count": 42,
   "metadata": {},
   "outputs": [],
   "source": [
    "m_row_train, m_row_test = get_search_dataset_multivariate('multi_tmin_lat-21.95_lon-46.65.csv', n_var=2)"
   ]
  },
  {
   "cell_type": "code",
   "execution_count": 43,
   "metadata": {},
   "outputs": [
    {
     "name": "stdout",
     "output_type": "stream",
     "text": [
      "Epoch 47: early stopping\n",
      "Epoch 71: early stopping\n",
      "Epoch 40: early stopping\n",
      "Epoch 94: early stopping\n",
      "Epoch 64: early stopping\n"
     ]
    }
   ],
   "source": [
    "m_tmin_results_CNN1 = []\n",
    "n_var = 2\n",
    "m_train, m_test, m_scaler = es.get_dados(star_CNN1, m_row_train, m_row_test)\n",
    "X_train, y_train, X_test, y_test = basic.slideWindowMulti(m_train, m_test, n_lags=star_CNN1['lags'], n_var=n_var)\n",
    "for i in range(5):\n",
    "  model,_ = basic.modelo_CNN1(X_train, y_train, star_CNN1) \n",
    "  rmse, yhat, y_test = basic.predictModelMulti(m_test, model, n_previsoes=3, n_lags=star_CNN1['lags'], n_var=n_var, scaler=m_scaler)\n",
    "  m_tmin_results_CNN1.append(rmse)\n",
    "\n",
    "m_tmin_results_CNN1 = form_data(m_tmin_results_CNN1, '1 (Tmin, ETo)')\n",
    "m_tmin_results_CNN1.to_csv('m_tmin_results_CNN1.csv',index=True)"
   ]
  },
  {
   "cell_type": "code",
   "execution_count": 44,
   "metadata": {},
   "outputs": [],
   "source": [
    "m_row_train, m_row_test = get_search_dataset_multivariate('multi_pr_lat-21.95_lon-46.65.csv', n_var=2)"
   ]
  },
  {
   "cell_type": "code",
   "execution_count": 45,
   "metadata": {},
   "outputs": [
    {
     "name": "stdout",
     "output_type": "stream",
     "text": [
      "Epoch 32: early stopping\n",
      "Epoch 76: early stopping\n",
      "Epoch 26: early stopping\n",
      "Epoch 60: early stopping\n"
     ]
    }
   ],
   "source": [
    "m_pr_results_CNN1 = []\n",
    "n_var = 2\n",
    "m_train, m_test, m_scaler = es.get_dados(star_CNN1, m_row_train, m_row_test)\n",
    "X_train, y_train, X_test, y_test = basic.slideWindowMulti(m_train, m_test, n_lags=star_CNN1['lags'], n_var=n_var)\n",
    "for i in range(5):\n",
    "  model,_ = basic.modelo_CNN1(X_train, y_train, star_CNN1) \n",
    "  rmse, yhat, y_test = basic.predictModelMulti(m_test, model, n_previsoes=3, n_lags=star_CNN1['lags'], n_var=n_var, scaler=m_scaler)\n",
    "  m_pr_results_CNN1.append(rmse)\n",
    "\n",
    "m_pr_results_CNN1 = form_data(m_pr_results_CNN1, '1 (pr, ETo)')\n",
    "m_pr_results_CNN1.to_csv('m_pr_results_CNN1.csv',index=True)"
   ]
  },
  {
   "cell_type": "code",
   "execution_count": 46,
   "metadata": {},
   "outputs": [],
   "source": [
    "m_row_train, m_row_test = get_search_dataset_multivariate('multi_rs_u2_lat-21.95_lon-46.65.csv', n_var=3)"
   ]
  },
  {
   "cell_type": "code",
   "execution_count": 47,
   "metadata": {},
   "outputs": [
    {
     "name": "stdout",
     "output_type": "stream",
     "text": [
      "Epoch 60: early stopping\n",
      "Epoch 68: early stopping\n",
      "Epoch 92: early stopping\n",
      "Epoch 45: early stopping\n",
      "Epoch 93: early stopping\n"
     ]
    }
   ],
   "source": [
    "m_rs_u2_results_CNN1 = []\n",
    "n_var = 3\n",
    "m_train, m_test, m_scaler = es.get_dados(star_CNN1, m_row_train, m_row_test)\n",
    "X_train, y_train, X_test, y_test = basic.slideWindowMulti(m_train, m_test, n_lags=star_CNN1['lags'], n_var=n_var)\n",
    "for i in range(5):\n",
    "  model,_ = basic.modelo_CNN1(X_train, y_train, star_CNN1) \n",
    "  rmse, yhat, y_test = basic.predictModelMulti(m_test, model, n_previsoes=3, n_lags=star_CNN1['lags'], n_var=n_var, scaler=m_scaler)\n",
    "  m_rs_u2_results_CNN1.append(rmse)\n",
    "\n",
    "m_rs_u2_results_CNN1 = form_data(m_rs_u2_results_CNN1, '1 (Rs, u2, ETo)')\n",
    "m_rs_u2_results_CNN1.to_csv('m_rs_u2_results_CNN1.csv',index=True)"
   ]
  },
  {
   "cell_type": "code",
   "execution_count": null,
   "metadata": {},
   "outputs": [],
   "source": [
    "m_row_train, m_row_test = get_search_dataset_multivariate('multi_u2_tmax_lat-21.95_lon-46.65.csv', n_var=3)"
   ]
  },
  {
   "cell_type": "code",
   "execution_count": null,
   "metadata": {},
   "outputs": [],
   "source": [
    "m_u2_tmax_results_CNN1 = []\n",
    "n_var = 3\n",
    "m_train, m_test, m_scaler = es.get_dados(star_CNN1, m_row_train, m_row_test)\n",
    "X_train, y_train, X_test, y_test = basic.slideWindowMulti(m_train, m_test, n_lags=star_CNN1['lags'], n_var=n_var)\n",
    "for i in range(5):\n",
    "  model,_ = basic.modelo_CNN1(X_train, y_train, star_CNN1) \n",
    "  rmse, yhat, y_test = basic.predictModelMulti(m_test, model, n_previsoes=3, n_lags=star_CNN1['lags'], n_var=n_var, scaler=m_scaler)\n",
    "  m_u2_tmax_results_CNN1.append(rmse)\n",
    "\n",
    "m_u2_tmax_results_CNN1 = form_data(m_u2_tmax_results_CNN1, '1 (u2, Tmax, ETo)')\n",
    "m_u2_tmax_results_CNN1.to_csv('m_u2_tmax_results_CNN1.csv',index=True)"
   ]
  },
  {
   "cell_type": "code",
   "execution_count": null,
   "metadata": {},
   "outputs": [],
   "source": [
    "u_CNN1 = pd.read_csv('u_results_CNN1',delimiter=',')\n",
    "u_CNN1 = u_CNN1[u_CNN1['Unnamed: 0'].isin([0,2,6,9])]\n",
    "\n",
    "m_rs_CNN1 = pd.read_csv('m_rs_results_CNN1.csv',delimiter=',')\n",
    "m_rs_CNN1 = m_rs_CNN1[m_rs_CNN1['Unnamed: 0'].isin([0,2,6,9])]\n",
    "\n",
    "m_u2_CNN1 = pd.read_csv('m_u2_results_CNN1.csv',delimiter=',')\n",
    "m_u2_CNN1 = m_u2_CNN1[m_u2_CNN1['Unnamed: 0'].isin([0,2,6,9])]\n",
    "\n",
    "m_rh_CNN1 = pd.read_csv('m_rh_results_CNN1.csv',delimiter=',')\n",
    "m_rh_CNN1 = m_rh_CNN1[m_rh_CNN1['Unnamed: 0'].isin([0,2,6,9])]\n",
    "\n",
    "m_tmax_CNN1 = pd.read_csv('m_tmax_results_CNN1.csv',delimiter=',')\n",
    "m_tmax_CNN1 = m_tmax_CNN1[m_tmax_CNN1['Unnamed: 0'].isin([0,2,6,9])]\n",
    "\n",
    "m_tmin_CNN1 = pd.read_csv('m_tmin_results_CNN1.csv',delimiter=',')\n",
    "m_tmin_CNN1 = m_tmin_CNN1[m_tmin_CNN1['Unnamed: 0'].isin([0,2,6,9])]\n",
    "\n",
    "m_pr_CNN1 = pd.read_csv('m_pr_results_CNN1.csv',delimiter=',')\n",
    "m_pr_CNN1 = m_pr_CNN1[m_pr_CNN1['Unnamed: 0'].isin([0,2,6,9])]\n",
    "\n",
    "m_rs_u2_CNN1 = pd.read_csv('m_rs_u2_results_CNN1.csv',delimiter=',')\n",
    "m_rs_u2_CNN1 = m_rs_u2_CNN1[m_rs_u2_CNN1['Unnamed: 0'].isin([0,2,6,9])]\n",
    "\n",
    "m_u2_tmax_CNN1 = pd.read_csv('m_u2_tmax_results_CNN1.csv',delimiter=',')\n",
    "m_u2_tmax_CNN1 = m_u2_tmax_CNN1[m_u2_tmax_CNN1['Unnamed: 0'].isin([0,2,6,9])]\n",
    "\n",
    "frames = [u_CNN1, m_rs_CNN1, m_u2_CNN1, m_rh_CNN1, m_tmax_CNN1, m_tmin_CNN1, m_pr_CNN1, m_rs_u2_CNN1, m_u2_tmax_CNN1]\n",
    "result = pd.concat(frames, ignore_index=True)\n",
    "result['Unnamed: 0'] = result['Unnamed: 0'] + 1\n",
    "\n",
    "plt.style.use('seaborn-paper')\n",
    "sns.set_style(\"whitegrid\")\n",
    "fig, ax = plt.subplots(nrows=1, ncols=1, figsize=[14,6], dpi=100)\n",
    "g1 = sns.boxplot(x=result.iloc[:,0], y=result.iloc[:,1], hue=result.iloc[:,2], data=result, palette=\"tab20\", linewidth=0.7, saturation=1)\n",
    "plt.tick_params(labelsize=12)\n",
    "# plt.xticks([1,3,7,10])\n",
    "plt.xlabel(\"Horizontes de previsão\", fontsize=14)\n",
    "plt.ylabel(\"RMSE\", fontsize=14)"
   ]
  }
 ],
 "metadata": {
  "kernelspec": {
   "display_name": "Python 3.8.7 64-bit",
   "language": "python",
   "name": "python3"
  },
  "language_info": {
   "codemirror_mode": {
    "name": "ipython",
    "version": 3
   },
   "file_extension": ".py",
   "mimetype": "text/x-python",
   "name": "python",
   "nbconvert_exporter": "python",
   "pygments_lexer": "ipython3",
   "version": "3.8.7"
  },
  "orig_nbformat": 4,
  "vscode": {
   "interpreter": {
    "hash": "9d87e67db777b4b0db676edb6578e0de57a75ced3517006e5561808a12abc48f"
   }
  }
 },
 "nbformat": 4,
 "nbformat_minor": 2
}
