{
 "cells": [
  {
   "cell_type": "markdown",
   "metadata": {},
   "source": [
    "Searching Multivariate Models Hyper-parameters"
   ]
  },
  {
   "cell_type": "code",
   "execution_count": 1,
   "metadata": {},
   "outputs": [],
   "source": [
    "import pandas as pd\n",
    "import geneticCNN as gcnn\n",
    "import Ensemble as es\n",
    "from itertools import repeat"
   ]
  },
  {
   "cell_type": "code",
   "execution_count": 2,
   "metadata": {},
   "outputs": [],
   "source": [
    "# dataset = 'uni_lat-19.75_lon-44.45.csv'\n",
    "dataset = 'multi_rs_lat-19.75_lon-44.45.csv'\n",
    "df1 = pd.read_csv(dataset, sep=\"\\s+|;|,\") # 7305 registros\n",
    "dataset = df1[['Rs','ETo']]"
   ]
  },
  {
   "cell_type": "code",
   "execution_count": null,
   "metadata": {},
   "outputs": [],
   "source": [
    "# pop = []\n",
    "# pop.append(gcnn.random_CNN1())\n",
    "# nvar = 2\n",
    "\n",
    "# res = list(map(gcnn.evaluationMulti, pop, repeat('CNN1'), repeat(dataset), repeat(100), repeat(nvar)))\n"
   ]
  },
  {
   "cell_type": "code",
   "execution_count": 3,
   "metadata": {},
   "outputs": [
    {
     "name": "stdout",
     "output_type": "stream",
     "text": [
      "Epoch 41: early stopping\n",
      "Epoch 50: early stopping\n",
      "Epoch 44: early stopping\n",
      "Epoch 48: early stopping\n",
      "Epoch 48: early stopping\n",
      "Epoch 47: early stopping\n"
     ]
    }
   ],
   "source": [
    "# Do artigo do Petrônio (IEEE Xplore) e artigo da Patrícia (SBAI2019):\n",
    "ngen = 10 # Poderia ser 30, 10 ou 50.\n",
    "npop = 20 # Poderia ser 20 ou 30.\n",
    "pcruz = 0.5\n",
    "pmut = 0.2 # Poderia ser 0.2 ou 0.05\n",
    "cnn = 'CNN1'\n",
    "epocas = 50 # Nenhuma referência, até o momento quanto ao valor ideal.\n",
    "\n",
    "betterCNN1HyperParameters = gcnn.geneticMulti(ngen=ngen, npop=npop, pcruz=pcruz, pmut=pmut, dataset=dataset, cnn=cnn, epocas=epocas, nvar=2)"
   ]
  }
 ],
 "metadata": {
  "kernelspec": {
   "display_name": "Python 3.8.7 64-bit",
   "language": "python",
   "name": "python3"
  },
  "language_info": {
   "codemirror_mode": {
    "name": "ipython",
    "version": 3
   },
   "file_extension": ".py",
   "mimetype": "text/x-python",
   "name": "python",
   "nbconvert_exporter": "python",
   "pygments_lexer": "ipython3",
   "version": "3.8.7"
  },
  "vscode": {
   "interpreter": {
    "hash": "9d87e67db777b4b0db676edb6578e0de57a75ced3517006e5561808a12abc48f"
   }
  }
 },
 "nbformat": 4,
 "nbformat_minor": 2
}
